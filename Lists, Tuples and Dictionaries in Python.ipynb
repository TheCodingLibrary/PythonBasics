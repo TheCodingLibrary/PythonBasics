{
 "cells": [
  {
   "cell_type": "markdown",
   "metadata": {},
   "source": [
    "# Lists, Tuples and Dictionaries in Python"
   ]
  },
  {
   "attachments": {
    "Screenshot_1.png": {
     "image/png": "[encoded data removed]"
    }
   },
   "cell_type": "markdown",
   "metadata": {},
   "source": [
    "![Screenshot_1.png](attachment:Screenshot_1.png)"
   ]
  },
  {
   "cell_type": "markdown",
   "metadata": {},
   "source": [
    "# 1. Lists"
   ]
  },
  {
   "cell_type": "code",
   "execution_count": 1,
   "metadata": {},
   "outputs": [
    {
     "name": "stdout",
     "output_type": "stream",
     "text": [
      "[1, 2, 3, 4, 5]\n",
      "1\n",
      "[1, 2]\n"
     ]
    }
   ],
   "source": [
    "a = [1, 2, 3, 4, 5]\n",
    "print(a)\n",
    "\n",
    "# Indexing\n",
    "index = a[0]\n",
    "print(index)\n",
    "\n",
    "indexRange = a[0:2]\n",
    "print(indexRange)"
   ]
  },
  {
   "cell_type": "code",
   "execution_count": 2,
   "metadata": {},
   "outputs": [
    {
     "name": "stdout",
     "output_type": "stream",
     "text": [
      "[1, 2, 3, 4, 5]\n",
      "[2, 2, 3, 4, 5]\n"
     ]
    }
   ],
   "source": [
    "a = [1, 2, 3, 4, 5]\n",
    "print(a)\n",
    "# Change value at index\n",
    "a[0] = 2\n",
    "\n",
    "print(a)"
   ]
  },
  {
   "cell_type": "code",
   "execution_count": 3,
   "metadata": {},
   "outputs": [
    {
     "name": "stdout",
     "output_type": "stream",
     "text": [
      "Is in the list\n"
     ]
    }
   ],
   "source": [
    "# Check if item is in list\n",
    "a = [1, 2, 3, 4, 5]\n",
    "\n",
    "if 1 in a:\n",
    "    print(\"Is in the list\")"
   ]
  },
  {
   "cell_type": "code",
   "execution_count": 4,
   "metadata": {},
   "outputs": [
    {
     "name": "stdout",
     "output_type": "stream",
     "text": [
      "[1, 2, 3, 4, 5]\n",
      "[1, 2, 3, 4, 5, 6]\n"
     ]
    }
   ],
   "source": [
    "# Append item to list\n",
    "a = [1, 2, 3, 4, 5]\n",
    "print(a)\n",
    "a.append(6)\n",
    "print(a)"
   ]
  },
  {
   "cell_type": "code",
   "execution_count": 6,
   "metadata": {},
   "outputs": [
    {
     "name": "stdout",
     "output_type": "stream",
     "text": [
      "[1, 2, 3, 4, 5]\n",
      "[1, 2, 3, 'Hey', 4, 5]\n"
     ]
    }
   ],
   "source": [
    "# Insert item at index\n",
    "a = [1, 2, 3, 4, 5]\n",
    "print(a)\n",
    "a.insert(3, \"Hey\")\n",
    "print(a)"
   ]
  },
  {
   "cell_type": "code",
   "execution_count": 7,
   "metadata": {},
   "outputs": [
    {
     "name": "stdout",
     "output_type": "stream",
     "text": [
      "[1, 2, 3, 4, 5, 'Hey']\n",
      "[1, 2, 3, 4, 5]\n",
      "[2, 3, 4, 5]\n"
     ]
    }
   ],
   "source": [
    "# Remove element from list\n",
    "a = [1, 2, 3, 4, 5, \"Hey\"]\n",
    "print(a)\n",
    "a.remove(\"Hey\")\n",
    "print(a)\n",
    "\n",
    "# Delete element at index\n",
    "del a[0]\n",
    "print(a)"
   ]
  },
  {
   "cell_type": "code",
   "execution_count": 8,
   "metadata": {},
   "outputs": [
    {
     "name": "stdout",
     "output_type": "stream",
     "text": [
      "[1, 2, 3, 4, 5, 6]\n"
     ]
    }
   ],
   "source": [
    "# Sort a list\n",
    "unsorted = [5, 2, 4, 1, 3, 6]\n",
    "unsorted.sort()\n",
    "print(unsorted)"
   ]
  },
  {
   "cell_type": "markdown",
   "metadata": {},
   "source": [
    "# 2. Tuples - The Unchangeable List"
   ]
  },
  {
   "cell_type": "code",
   "execution_count": 9,
   "metadata": {},
   "outputs": [
    {
     "name": "stdout",
     "output_type": "stream",
     "text": [
      "(1, 2, 3, 4, 5)\n",
      "1\n",
      "(1, 2)\n"
     ]
    }
   ],
   "source": [
    "a = (1, 2, 3, 4, 5)\n",
    "print(a)\n",
    "\n",
    "# Indexing\n",
    "index = a[0]\n",
    "print(index)\n",
    "\n",
    "indexRange = a[0:2]\n",
    "print(indexRange)"
   ]
  },
  {
   "cell_type": "code",
   "execution_count": 10,
   "metadata": {},
   "outputs": [
    {
     "name": "stdout",
     "output_type": "stream",
     "text": [
      "(1, 2, 3, 4, 5)\n"
     ]
    },
    {
     "ename": "TypeError",
     "evalue": "'tuple' object does not support item assignment",
     "output_type": "error",
     "traceback": [
      "\u001b[1;31m---------------------------------------------------------------------------\u001b[0m",
      "\u001b[1;31mTypeError\u001b[0m                                 Traceback (most recent call last)",
      "\u001b[1;32m<ipython-input-10-26b4cddba612>\u001b[0m in \u001b[0;36m<module>\u001b[1;34m\u001b[0m\n\u001b[0;32m      3\u001b[0m \u001b[0mprint\u001b[0m\u001b[1;33m(\u001b[0m\u001b[0ma\u001b[0m\u001b[1;33m)\u001b[0m\u001b[1;33m\u001b[0m\u001b[1;33m\u001b[0m\u001b[0m\n\u001b[0;32m      4\u001b[0m \u001b[1;31m# Change value at index\u001b[0m\u001b[1;33m\u001b[0m\u001b[1;33m\u001b[0m\u001b[1;33m\u001b[0m\u001b[0m\n\u001b[1;32m----> 5\u001b[1;33m \u001b[0ma\u001b[0m\u001b[1;33m[\u001b[0m\u001b[1;36m0\u001b[0m\u001b[1;33m]\u001b[0m \u001b[1;33m=\u001b[0m \u001b[1;36m2\u001b[0m\u001b[1;33m\u001b[0m\u001b[1;33m\u001b[0m\u001b[0m\n\u001b[0m\u001b[0;32m      6\u001b[0m \u001b[1;33m\u001b[0m\u001b[0m\n\u001b[0;32m      7\u001b[0m \u001b[0mprint\u001b[0m\u001b[1;33m(\u001b[0m\u001b[0ma\u001b[0m\u001b[1;33m)\u001b[0m\u001b[1;33m\u001b[0m\u001b[1;33m\u001b[0m\u001b[0m\n",
      "\u001b[1;31mTypeError\u001b[0m: 'tuple' object does not support item assignment"
     ]
    }
   ],
   "source": [
    "# Cant change or remove items in a tuple. They are unchangeable\n",
    "a = (1, 2, 3, 4, 5)\n",
    "print(a)\n",
    "# Change value at index\n",
    "a[0] = 2\n",
    "\n",
    "print(a)"
   ]
  },
  {
   "cell_type": "code",
   "execution_count": 11,
   "metadata": {},
   "outputs": [
    {
     "name": "stdout",
     "output_type": "stream",
     "text": [
      "(1, 2, 3, 4, 5)\n",
      "(2, 2, 3, 4, 5)\n"
     ]
    }
   ],
   "source": [
    "a = (1, 2, 3, 4, 5)\n",
    "print(a)\n",
    "\n",
    "# Change value at index\n",
    "a = list(a)\n",
    "a[0] = 2\n",
    "a = tuple(a)\n",
    "\n",
    "print(a)"
   ]
  },
  {
   "cell_type": "markdown",
   "metadata": {},
   "source": [
    "# 3. Dictionaries "
   ]
  },
  {
   "cell_type": "code",
   "execution_count": 12,
   "metadata": {},
   "outputs": [
    {
     "name": "stdout",
     "output_type": "stream",
     "text": [
      "{'channel': 'The Coding Library', 'tutorial': 'Python', 'year': 2020}\n"
     ]
    }
   ],
   "source": [
    "playlist = {\n",
    "    \"channel\": \"The Coding Library\",\n",
    "    \"tutorial\": \"Python\",\n",
    "    \"year\": 2020\n",
    "}\n",
    "\n",
    "print(playlist)"
   ]
  },
  {
   "cell_type": "code",
   "execution_count": 13,
   "metadata": {},
   "outputs": [
    {
     "name": "stdout",
     "output_type": "stream",
     "text": [
      "The Coding Library\n",
      "Python\n",
      "2020\n"
     ]
    }
   ],
   "source": [
    "# Get key element\n",
    "channel = playlist[\"channel\"]\n",
    "print(channel)\n",
    "\n",
    "tutorial = playlist[\"tutorial\"]\n",
    "print(tutorial)\n",
    "\n",
    "year = playlist[\"year\"]\n",
    "print(year)"
   ]
  },
  {
   "cell_type": "code",
   "execution_count": 14,
   "metadata": {},
   "outputs": [
    {
     "name": "stdout",
     "output_type": "stream",
     "text": [
      "{'channel': 'The Coding Library', 'tutorial': 'Python', 'year': 2020}\n",
      "{'channel': 'The Coding Library', 'tutorial': 'For Beginners', 'year': 2020}\n"
     ]
    }
   ],
   "source": [
    "playlist = {\n",
    "    \"channel\": \"The Coding Library\",\n",
    "    \"tutorial\": \"Python\",\n",
    "    \"year\": 2020\n",
    "}\n",
    "\n",
    "print(playlist)\n",
    "\n",
    "# Change element\n",
    "playlist[\"tutorial\"] = \"For Beginners\"\n",
    "print(playlist)"
   ]
  },
  {
   "cell_type": "code",
   "execution_count": 15,
   "metadata": {},
   "outputs": [
    {
     "name": "stdout",
     "output_type": "stream",
     "text": [
      "{'channel': 'The Coding Library', 'tutorial': 'Python', 'year': 2020}\n",
      "{'channel': 'The Coding Library', 'tutorial': 'Python', 'year': 2020, 'level': 'Beginning Level'}\n"
     ]
    }
   ],
   "source": [
    "playlist = {\n",
    "    \"channel\": \"The Coding Library\",\n",
    "    \"tutorial\": \"Python\",\n",
    "    \"year\": 2020\n",
    "}\n",
    "print(playlist)\n",
    "\n",
    "# Adding element to dictionary\n",
    "playlist[\"level\"] = \"Beginning Level\"\n",
    "print(playlist)"
   ]
  },
  {
   "cell_type": "code",
   "execution_count": 16,
   "metadata": {},
   "outputs": [
    {
     "name": "stdout",
     "output_type": "stream",
     "text": [
      "{'channel': 'The Coding Library', 'tutorial': 'Python', 'year': 2020, 'level': 'Beginning Level'}\n",
      "{'channel': 'The Coding Library', 'tutorial': 'Python', 'year': 2020}\n"
     ]
    }
   ],
   "source": [
    "playlist = {\n",
    "    \"channel\": \"The Coding Library\",\n",
    "    \"tutorial\": \"Python\",\n",
    "    \"year\": 2020,\n",
    "    \"level\": \"Beginning Level\"\n",
    "}\n",
    "print(playlist)\n",
    "\n",
    "# Remove element from dictionary\n",
    "del playlist[\"level\"]\n",
    "print(playlist)"
   ]
  },
  {
   "cell_type": "code",
   "execution_count": 17,
   "metadata": {},
   "outputs": [
    {
     "name": "stdout",
     "output_type": "stream",
     "text": [
      "{'Python tutorial': {'level': 'beginning level', 'year': 2020}, 'C++ tutorial': {'level': 'advanced level', 'year': 2020}}\n"
     ]
    }
   ],
   "source": [
    "# Nested Dictionaries\n",
    "channel = {\n",
    "  \"Python tutorial\" : {\n",
    "    \"level\" : \"beginning level\",\n",
    "    \"year\" : 2020\n",
    "  },\n",
    "    \n",
    "  \"C++ tutorial\" : {\n",
    "    \"level\" : \"advanced level\",\n",
    "    \"year\" : 2020\n",
    "  }\n",
    "}\n",
    "\n",
    "print(channel)"
   ]
  },
  {
   "cell_type": "code",
   "execution_count": null,
   "metadata": {},
   "outputs": [],
   "source": []
  }
 ],
 "metadata": {
  "kernelspec": {
   "display_name": "Python 3",
   "language": "python",
   "name": "python3"
  },
  "language_info": {
   "codemirror_mode": {
    "name": "ipython",
    "version": 3
   },
   "file_extension": ".py",
   "mimetype": "text/x-python",
   "name": "python",
   "nbconvert_exporter": "python",
   "pygments_lexer": "ipython3",
   "version": "3.8.5"
  }
 },
 "nbformat": 4,
 "nbformat_minor": 4
}
