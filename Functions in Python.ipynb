{
 "cells": [
  {
   "cell_type": "markdown",
   "metadata": {},
   "source": [
    "# Functions in Python "
   ]
  },
  {
   "cell_type": "markdown",
   "metadata": {},
   "source": [
    "# 1. Functions "
   ]
  },
  {
   "cell_type": "code",
   "execution_count": 1,
   "metadata": {},
   "outputs": [
    {
     "name": "stdout",
     "output_type": "stream",
     "text": [
      "Hello Coding Library\n"
     ]
    }
   ],
   "source": [
    "def hello():\n",
    "    print(\"Hello Coding Library\")\n",
    "    \n",
    "hello()"
   ]
  },
  {
   "cell_type": "code",
   "execution_count": 2,
   "metadata": {},
   "outputs": [
    {
     "name": "stdout",
     "output_type": "stream",
     "text": [
      "Sum: 5\n"
     ]
    }
   ],
   "source": [
    "# Add two parameters\n",
    "def add(num1, num2):\n",
    "    result = num1 + num2\n",
    "    return result\n",
    "\n",
    "sumOfNumbers = add(2,3)\n",
    "print(\"Sum:\", sumOfNumbers)"
   ]
  },
  {
   "cell_type": "markdown",
   "metadata": {},
   "source": [
    "## A parameter is the variable listed inside the parentheses in the function definition\n",
    "## An argument is the value that is sent to the function when it is called"
   ]
  },
  {
   "cell_type": "code",
   "execution_count": 3,
   "metadata": {},
   "outputs": [
    {
     "name": "stdout",
     "output_type": "stream",
     "text": [
      "Second part: Coding\n"
     ]
    }
   ],
   "source": [
    "# Arbitrary Arguments\n",
    "def channelNames(*channelNames):\n",
    "  print(\"Second part: \" + channelNames[1])\n",
    "\n",
    "channelNames(\"The\", \"Coding\", \"Library\")"
   ]
  },
  {
   "cell_type": "code",
   "execution_count": 4,
   "metadata": {},
   "outputs": [
    {
     "name": "stdout",
     "output_type": "stream",
     "text": [
      "Channel Name: The Coding Library\n"
     ]
    }
   ],
   "source": [
    "# Keyword Arguments\n",
    "def channelName(first, second, third):\n",
    "  print(\"Channel Name: \" + third + \" \" + second + \" \" + first)\n",
    "\n",
    "channelName(second=\"Coding\", third=\"The\", first=\"Library\")"
   ]
  },
  {
   "cell_type": "code",
   "execution_count": 5,
   "metadata": {},
   "outputs": [
    {
     "name": "stdout",
     "output_type": "stream",
     "text": [
      "Last part: Library\n"
     ]
    }
   ],
   "source": [
    "# Arbitrary Keyword Arguments\n",
    "def channel(**channelName):\n",
    "  print(\"Last part: \" + channelName[\"last\"])\n",
    "\n",
    "channel(first=\"The\", last = \"Library\")"
   ]
  },
  {
   "cell_type": "markdown",
   "metadata": {},
   "source": [
    "# 2. Recursive Function "
   ]
  },
  {
   "cell_type": "code",
   "execution_count": 6,
   "metadata": {},
   "outputs": [
    {
     "name": "stdout",
     "output_type": "stream",
     "text": [
      "Factorial:  6\n"
     ]
    }
   ],
   "source": [
    "# Recursive function to get factorial of an integer\n",
    "def factorial(x):\n",
    "\n",
    "    if x == 1:\n",
    "        return 1\n",
    "    else:\n",
    "        return (x * factorial(x-1))\n",
    "\n",
    "factorialResult = factorial(3) \n",
    "print(\"Factorial: \", factorialResult)"
   ]
  },
  {
   "cell_type": "code",
   "execution_count": null,
   "metadata": {},
   "outputs": [],
   "source": []
  }
 ],
 "metadata": {
  "kernelspec": {
   "display_name": "Python 3",
   "language": "python",
   "name": "python3"
  },
  "language_info": {
   "codemirror_mode": {
    "name": "ipython",
    "version": 3
   },
   "file_extension": ".py",
   "mimetype": "text/x-python",
   "name": "python",
   "nbconvert_exporter": "python",
   "pygments_lexer": "ipython3",
   "version": "3.8.5"
  }
 },
 "nbformat": 4,
 "nbformat_minor": 4
}
