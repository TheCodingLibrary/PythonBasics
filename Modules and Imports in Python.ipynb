{
 "cells": [
  {
   "cell_type": "markdown",
   "metadata": {},
   "source": [
    "# Modules and Imports in Python "
   ]
  },
  {
   "attachments": {
    "modules.png": {
     "image/png": "[encoded data removed]"
    }
   },
   "cell_type": "markdown",
   "metadata": {},
   "source": [
    "![modules.png](attachment:modules.png)"
   ]
  },
  {
   "cell_type": "markdown",
   "metadata": {},
   "source": [
    "# 1. Use a Module "
   ]
  },
  {
   "cell_type": "code",
   "execution_count": null,
   "metadata": {},
   "outputs": [],
   "source": [
    "# Import the whole module\n",
    "import mathLibrary\n",
    "\n",
    "result = mathLibrary.add(3, 2)"
   ]
  },
  {
   "cell_type": "code",
   "execution_count": null,
   "metadata": {},
   "outputs": [],
   "source": [
    "# Import specific parts from the module\n",
    "from mathLibrary import add\n",
    "\n",
    "result = add(2,6)"
   ]
  },
  {
   "cell_type": "markdown",
   "metadata": {},
   "source": [
    "# 2. Variables in a Module "
   ]
  },
  {
   "cell_type": "code",
   "execution_count": null,
   "metadata": {},
   "outputs": [],
   "source": [
    "# Math Library is already imported from last cell\n",
    "\n",
    "plusSign = mathLibrary.operators[\"plus\"]\n",
    "\n",
    "print(\"Plus Operator: \", plusSign)"
   ]
  },
  {
   "cell_type": "code",
   "execution_count": null,
   "metadata": {},
   "outputs": [],
   "source": [
    "channel = mathLibrary.channel\n",
    "\n",
    "print(\"Channel: \", channel)"
   ]
  },
  {
   "cell_type": "markdown",
   "metadata": {},
   "source": [
    "# 3. Naming Modules "
   ]
  },
  {
   "cell_type": "code",
   "execution_count": null,
   "metadata": {},
   "outputs": [],
   "source": [
    "import mathLibrary as ml\n",
    "\n",
    "plusSign = ml.operators[\"plus\"]\n",
    "\n",
    "print(\"Plus Operator: \", plusSign)"
   ]
  },
  {
   "cell_type": "markdown",
   "metadata": {},
   "source": [
    "# 4. Use Built In Modules "
   ]
  },
  {
   "cell_type": "code",
   "execution_count": null,
   "metadata": {},
   "outputs": [],
   "source": [
    "import math\n",
    "\n",
    "factorial = math.factorial(3)\n",
    "\n",
    "print(\"Result of factorial: \", factorial)"
   ]
  },
  {
   "cell_type": "code",
   "execution_count": null,
   "metadata": {},
   "outputs": [],
   "source": [
    "sqrt = math.sqrt(9)\n",
    "print(\"Result of square root: \", sqrt)"
   ]
  },
  {
   "cell_type": "markdown",
   "metadata": {},
   "source": [
    "# 5. How to install Modules/Packages "
   ]
  },
  {
   "cell_type": "code",
   "execution_count": null,
   "metadata": {},
   "outputs": [],
   "source": [
    "import cv2\n",
    "\n",
    "# Read in picture\n",
    "img = cv2.imread('logo.png')\n",
    "# Show picture\n",
    "cv2.imshow('The Coding Library',img)\n",
    "\n",
    "key = cv2.waitKey(0)\n",
    "if key == 27:         # wait for ESC key to exit\n",
    "    cv2.destroyAllWindows()\n",
    "elif key == ord('s'): # wait for 's' key to save and exit\n",
    "    cv2.imwrite('logoNew.png',img)\n",
    "    cv2.destroyAllWindows()"
   ]
  }
 ],
 "metadata": {
  "kernelspec": {
   "display_name": "Python 3",
   "language": "python",
   "name": "python3"
  },
  "language_info": {
   "codemirror_mode": {
    "name": "ipython",
    "version": 3
   },
   "file_extension": ".py",
   "mimetype": "text/x-python",
   "name": "python",
   "nbconvert_exporter": "python",
   "pygments_lexer": "ipython3",
   "version": "3.8.5"
  }
 },
 "nbformat": 4,
 "nbformat_minor": 4
}
